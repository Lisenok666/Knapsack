{
 "cells": [
  {
   "cell_type": "code",
   "execution_count": 86,
   "metadata": {},
   "outputs": [
    {
     "name": "stdout",
     "output_type": "stream",
     "text": [
      "5\n",
      "4\n",
      "3 3\n",
      "1 2\n",
      "2 1\n",
      "3 2\n",
      "5\n"
     ]
    }
   ],
   "source": [
    "import sys\n",
    "import time\n",
    "import numpy as np\n",
    "total_knapsack_weight = float(input())\n",
    "number_of_items = int(input())\n",
    "item_weight_value = [number_of_items * [0] , number_of_items*[0]]\n",
    "max_coast = number_of_items * [0, 0, 0]\n",
    "item_weight = number_of_items * [0]\n",
    "item_value = number_of_items * [0]\n",
    "for i in range(number_of_items):\n",
    "    weight, value = input().split()\n",
    "    item_weight[i], item_value[i] = int(weight), int(value)\n",
    "max_coast  = [[item_value[i]/ item_weight[i],  item_value[i], item_weight[i]] \n",
    "              for i in range(number_of_items)]\n",
    "max_coast  = sorted(max_coast, reverse = True)\n",
    "low_opt = 0\n",
    "weight_now = 0\n",
    "for i in range(number_of_items):\n",
    "    if total_knapsack_weight -weight_now >= max_coast[i][2]:\n",
    "        low_opt += max_coast[i][1]\n",
    "        weight_now += max_coast[i][2]\n",
    "def bounds1(data, total_knapsack_weight, n, price, answer, max_k):\n",
    "    weight = total_knapsack_weight\n",
    "    high_opt = 0\n",
    "    if n == max_k -2:\n",
    "        if data[n+1][2] <= weight:\n",
    "            price += data[n+1][1]\n",
    "        answer[0] = max(price, answer[0])\n",
    "        return\n",
    "    for i in range(n+1, max_k, 1):\n",
    "        if data[i][2] <= weight:\n",
    "            high_opt += data[i][1]\n",
    "            weight -= data[i][2]\n",
    "        else:\n",
    "            high_opt += int(weight  * data[i][0])\n",
    "            break\n",
    "\n",
    "    if high_opt + price < answer[0]:#отсечение\n",
    "        return\n",
    "    #не берём\n",
    "    bounds1(data, total_knapsack_weight, n+1, price, answer, max_k)\n",
    " \n",
    "    if data[n+1][2] <= total_knapsack_weight:\n",
    "        #берём\n",
    "        bounds1(data, total_knapsack_weight - data[n+1][2], n+1, price + data[n + 1][1], answer, max_k)\n",
    "answer = [low_opt]\n",
    "bounds1(max_coast, total_knapsack_weight, -1, 0, answer, number_of_items)\n",
    "#bounds1(number_of_items, max_coast, total_knapsack_weight, 0, answer, number_of_items)\n",
    "print(answer[0])"
   ]
  },
  {
   "cell_type": "code",
   "execution_count": null,
   "metadata": {},
   "outputs": [],
   "source": []
  }
 ],
 "metadata": {
  "kernelspec": {
   "display_name": "Python 3",
   "language": "python",
   "name": "python3"
  },
  "language_info": {
   "codemirror_mode": {
    "name": "ipython",
    "version": 3
   },
   "file_extension": ".py",
   "mimetype": "text/x-python",
   "name": "python",
   "nbconvert_exporter": "python",
   "pygments_lexer": "ipython3",
   "version": "3.7.4"
  }
 },
 "nbformat": 4,
 "nbformat_minor": 2
}
