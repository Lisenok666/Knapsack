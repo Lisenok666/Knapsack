{
 "cells": [
  {
   "cell_type": "code",
   "execution_count": 6,
   "metadata": {},
   "outputs": [
    {
     "name": "stdout",
     "output_type": "stream",
     "text": [
      "4\n",
      "3\n",
      "1 1\n",
      "2 2\n",
      "3 3\n"
     ]
    }
   ],
   "source": [
    "import sys\n",
    "import time\n",
    "import numpy as np\n",
    "total_knapsack_weight = float(input())\n",
    "number_of_items = int(input())\n",
    "item_weight_value = list() \n",
    "max_coast = list()\n",
    "sys.setrecursionlimit(1000)\n",
    "for i in range(number_of_items):\n",
    "    weight, value = input().split()\n",
    "    item_weight_value.append([int(weight), int(value)])\n",
    "    max_coast.append([float(value)/ int(weight), i])\n",
    "\n",
    "\n"
   ]
  },
  {
   "cell_type": "code",
   "execution_count": 7,
   "metadata": {},
   "outputs": [],
   "source": [
    "max_coast_sort = sorted(max_coast, key=lambda x: x[0], reverse=True )\n",
    "line_solve0 = list()\n",
    "line_solve1 = list()\n",
    "line_solve2 = list()\n",
    "line_solve_weight1 = 0\n",
    "line_solve_weight2 = 0\n",
    "line_solve_price0 = 0\n",
    "line_solve_price1 = 0\n",
    "line_solve_price2 = 0\n",
    "ind = 0\n",
    "for i in range(number_of_items):\n",
    "    if item_weight_value[max_coast_sort[i][1]][0] <= total_knapsack_weight:\n",
    "        if line_solve_weight1 + item_weight_value[max_coast_sort[i][1]][0] <= total_knapsack_weight:\n",
    "            line_solve_weight1 += item_weight_value[max_coast_sort[i][1]][0]\n",
    "            line_solve_price1 += item_weight_value[max_coast_sort[i][1]][1]\n",
    "            line_solve1.append(max_coast_sort[i][1])\n",
    "            line_solve0.append([max_coast_sort[i][1], 1])\n",
    "        else:\n",
    "            ind = i\n",
    "            cof = float(total_knapsack_weight-line_solve_weight1)/item_weight_value[max_coast_sort[i][1]][0]\n",
    "            line_solve_price0 = line_solve_price1+ cof*item_weight_value[max_coast_sort[i][1]][1]\n",
    "            if cof == 0:\n",
    "                break\n",
    "            line_solve_price2 += item_weight_value[max_coast_sort[i][1]][1]\n",
    "            line_solve_weight2 += item_weight_value[max_coast_sort[i][1]][0]\n",
    "            line_solve0.append([max_coast_sort[i][1], cof])\n",
    "            line_solve2.append(max_coast_sort[i][1])\n",
    "            break\n"
   ]
  },
  {
   "cell_type": "code",
   "execution_count": null,
   "metadata": {},
   "outputs": [],
   "source": []
  },
  {
   "cell_type": "code",
   "execution_count": 8,
   "metadata": {},
   "outputs": [],
   "source": [
    "for i in range(ind, number_of_items):\n",
    "    if item_weight_value[max_coast_sort[i][1]][0] <= total_knapsack_weight:\n",
    "        if line_solve_weight1 + item_weight_value[max_coast_sort[i][1]][0] <= total_knapsack_weight:\n",
    "            line_solve_weight1 += item_weight_value[max_coast_sort[i][1]][0]\n",
    "            line_solve_price1 += item_weight_value[max_coast_sort[i][1]][1]\n",
    "            line_solve1.append(max_coast_sort[i][1])\n",
    "for i in range(number_of_items):\n",
    "    if item_weight_value[max_coast_sort[i][1]][0] <= total_knapsack_weight:\n",
    "        if i != ind:\n",
    "            if line_solve_weight2 + item_weight_value[max_coast_sort[i][1]][0] <= total_knapsack_weight:\n",
    "                line_solve_weight2 += item_weight_value[max_coast_sort[i][1]][0]\n",
    "                line_solve_price2 += item_weight_value[max_coast_sort[i][1]][1]\n",
    "                line_solve2.append(max_coast_sort[i][1])\n"
   ]
  },
  {
   "cell_type": "code",
   "execution_count": 9,
   "metadata": {},
   "outputs": [],
   "source": [
    "if line_solve_price1 < line_solve_price2:\n",
    "    opt_max  = line_solve_price2\n",
    "    opt_min  = line_solve_price1\n",
    "else:\n",
    "    opt_max  = line_solve_price1\n",
    "    opt_min  = line_solve_price2\n",
    "    \n",
    "\n",
    "    "
   ]
  },
  {
   "cell_type": "code",
   "execution_count": 10,
   "metadata": {},
   "outputs": [],
   "source": [
    "def bounds(i, data, weight_can, price, can_be_add):\n",
    "    global low_opt\n",
    "    if (price + can_be_add > low_opt):\n",
    "        j = i+1\n",
    "        can_be_add -= data[i][1]\n",
    "        if (j < number_of_items):\n",
    "            bounds(j, data = data, weight_can = weight_can, price = price, can_be_add = can_be_add) #don't take\n",
    "        if data[i][0] <= weight_can:\n",
    "            price += data[i][1]\n",
    "            weight_can -= data[i][0]\n",
    "            if price > low_opt:\n",
    "                low_opt = price\n",
    "            if (j < number_of_items):\n",
    "                bounds(j, data = data, weight_can = weight_can, price = price, can_be_add = can_be_add)"
   ]
  },
  {
   "cell_type": "code",
   "execution_count": 16,
   "metadata": {},
   "outputs": [
    {
     "name": "stdout",
     "output_type": "stream",
     "text": [
      "4\n"
     ]
    }
   ],
   "source": [
    "answers = list() \n",
    "high_opt = opt_max\n",
    "low_opt = opt_min\n",
    "be_add = 0\n",
    "for i in range(number_of_items):\n",
    "    be_add += item_weight_value[i][1]\n",
    "item_weight_value = np.array(item_weight_value)\n",
    "(bounds(0, item_weight_value, total_knapsack_weight, 0, be_add))\n",
    "print(low_opt)\n"
   ]
  },
  {
   "cell_type": "code",
   "execution_count": 15,
   "metadata": {},
   "outputs": [
    {
     "data": {
      "text/plain": [
       "4.0"
      ]
     },
     "execution_count": 15,
     "metadata": {},
     "output_type": "execute_result"
    }
   ],
   "source": [
    "\n"
   ]
  },
  {
   "cell_type": "code",
   "execution_count": 7,
   "metadata": {},
   "outputs": [],
   "source": [
    "#res = [] \n",
    "#for val in answers: \n",
    "    #if val != None : \n",
    "        #res.append(val) \n"
   ]
  },
  {
   "cell_type": "code",
   "execution_count": 8,
   "metadata": {},
   "outputs": [
    {
     "name": "stdout",
     "output_type": "stream",
     "text": [
      "4\n"
     ]
    }
   ],
   "source": [
    "#print(max(res))"
   ]
  },
  {
   "cell_type": "code",
   "execution_count": null,
   "metadata": {},
   "outputs": [],
   "source": []
  }
 ],
 "metadata": {
  "kernelspec": {
   "display_name": "Python 3",
   "language": "python",
   "name": "python3"
  },
  "language_info": {
   "codemirror_mode": {
    "name": "ipython",
    "version": 3
   },
   "file_extension": ".py",
   "mimetype": "text/x-python",
   "name": "python",
   "nbconvert_exporter": "python",
   "pygments_lexer": "ipython3",
   "version": "3.7.4"
  }
 },
 "nbformat": 4,
 "nbformat_minor": 2
}
